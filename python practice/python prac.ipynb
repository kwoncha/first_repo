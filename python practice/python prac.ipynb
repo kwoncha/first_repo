{
 "cells": [
  {
   "cell_type": "code",
   "execution_count": 3,
   "id": "7ce52cba",
   "metadata": {},
   "outputs": [],
   "source": [
    "# 숫자를 담은 일차원 리스트, mylist에 대해 mylist의 원소로 이루어진 모든 순열을 사전순으로 리턴하는 함수 solution\n",
    "# 만약 파이썬에서 permutation을 모르면 1번 알면 2번\n",
    "# 1번\n",
    "def permute(arr):\n",
    "    result = [arr[:]]\n",
    "    c = [0] * len(arr)\n",
    "    i = 0\n",
    "    while i < len(arr):\n",
    "        if c[i] < i:\n",
    "            if i% 2 == 0:\n",
    "                arr[0], arr[i] = arr[i], arr[0]\n",
    "            else:\n",
    "                arr[c[i]], arr[i] = arr[i], arr[c[i]]\n",
    "            result.append(arr[:])\n",
    "            c[i] += 1\n",
    "            i =0\n",
    "        else:\n",
    "            c[i] =0\n",
    "            i += 1\n",
    "    return result\n",
    "\n",
    "# 2번\n",
    "sorted(list(permutations(mylist)))"
   ]
  },
  {
   "cell_type": "code",
   "execution_count": null,
   "id": "e5ed59aa",
   "metadata": {},
   "outputs": [],
   "source": []
  }
 ],
 "metadata": {
  "kernelspec": {
   "display_name": "Python 3 (ipykernel)",
   "language": "python",
   "name": "python3"
  },
  "language_info": {
   "codemirror_mode": {
    "name": "ipython",
    "version": 3
   },
   "file_extension": ".py",
   "mimetype": "text/x-python",
   "name": "python",
   "nbconvert_exporter": "python",
   "pygments_lexer": "ipython3",
   "version": "3.9.13"
  }
 },
 "nbformat": 4,
 "nbformat_minor": 5
}
